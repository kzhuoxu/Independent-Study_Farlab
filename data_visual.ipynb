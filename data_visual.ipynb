{
 "cells": [
  {
   "cell_type": "code",
   "execution_count": 3,
   "metadata": {},
   "outputs": [
    {
     "name": "stdout",
     "output_type": "stream",
     "text": [
      "(835, 342)\n"
     ]
    },
    {
     "data": {
      "text/html": [
       "<div>\n",
       "<style scoped>\n",
       "    .dataframe tbody tr th:only-of-type {\n",
       "        vertical-align: middle;\n",
       "    }\n",
       "\n",
       "    .dataframe tbody tr th {\n",
       "        vertical-align: top;\n",
       "    }\n",
       "\n",
       "    .dataframe thead th {\n",
       "        text-align: right;\n",
       "    }\n",
       "</style>\n",
       "<table border=\"1\" class=\"dataframe\">\n",
       "  <thead>\n",
       "    <tr style=\"text-align: right;\">\n",
       "      <th></th>\n",
       "      <th>GameTime</th>\n",
       "      <th>ScenarioTime</th>\n",
       "      <th>FrameRate</th>\n",
       "      <th>FrameRate-XRDevice</th>\n",
       "      <th>Frame Number</th>\n",
       "      <th>B VR Pos</th>\n",
       "      <th>B VR Rot</th>\n",
       "      <th>B XR Origin Pos</th>\n",
       "      <th>B XR Origin  Rot</th>\n",
       "      <th>A VR Pos</th>\n",
       "      <th>...</th>\n",
       "      <th>A Hand Bone Pos ThumbMetacarpal Left</th>\n",
       "      <th>A Hand Bone Rot ThumbMetacarpal Left</th>\n",
       "      <th>A Hand Bone Pos ThumbProximal Left</th>\n",
       "      <th>A Hand Bone Rot ThumbProximal Left</th>\n",
       "      <th>A Hand Bone Pos ThumbDistal Left</th>\n",
       "      <th>A Hand Bone Rot ThumbDistal Left</th>\n",
       "      <th>A Hand Bone Pos ThumbTip Left</th>\n",
       "      <th>A Hand Bone Rot ThumbTip Left</th>\n",
       "      <th>A Hand Bone Pos Palm Left</th>\n",
       "      <th>A Hand Bone Rot Palm Left</th>\n",
       "    </tr>\n",
       "  </thead>\n",
       "  <tbody>\n",
       "    <tr>\n",
       "      <th>0</th>\n",
       "      <td>635.7658</td>\n",
       "      <td>0.000000</td>\n",
       "      <td>0.018137</td>\n",
       "      <td>0.0</td>\n",
       "      <td>40761</td>\n",
       "      <td>(-24.653500, 1.722083, 11.267030)</td>\n",
       "      <td>(5.940068, 63.604170, 2.144961)</td>\n",
       "      <td>(-22.871520, 1.083476, 11.322230)</td>\n",
       "      <td>(0.000000, 38.287550, 0.000000)</td>\n",
       "      <td>(84.601750, 1.164905, 57.634200)</td>\n",
       "      <td>...</td>\n",
       "      <td>(84.282130, 0.883054, 57.522210)</td>\n",
       "      <td>(10.399070, 308.988200, 281.331000)</td>\n",
       "      <td>(84.257270, 0.877186, 57.542320)</td>\n",
       "      <td>(7.985543, 291.647400, 288.137600)</td>\n",
       "      <td>(84.226170, 0.872492, 57.554670)</td>\n",
       "      <td>(13.424510, 301.096300, 280.258200)</td>\n",
       "      <td>(84.205980, 0.867602, 57.567880)</td>\n",
       "      <td>(13.424510, 301.096300, 280.258200)</td>\n",
       "      <td>(84.273600, 0.894483, 57.489720)</td>\n",
       "      <td>(337.154900, 268.026900, 14.860730)</td>\n",
       "    </tr>\n",
       "    <tr>\n",
       "      <th>1</th>\n",
       "      <td>635.8210</td>\n",
       "      <td>0.055176</td>\n",
       "      <td>0.021167</td>\n",
       "      <td>0.0</td>\n",
       "      <td>40763</td>\n",
       "      <td>(-24.654760, 1.722845, 11.262670)</td>\n",
       "      <td>(5.625865, 66.597240, 1.948765)</td>\n",
       "      <td>(-22.871520, 1.083476, 11.322230)</td>\n",
       "      <td>(0.000000, 38.287550, 0.000000)</td>\n",
       "      <td>(84.601460, 1.164904, 57.633830)</td>\n",
       "      <td>...</td>\n",
       "      <td>(84.282200, 0.881775, 57.522450)</td>\n",
       "      <td>(10.169370, 308.911700, 281.339400)</td>\n",
       "      <td>(84.257290, 0.876034, 57.542550)</td>\n",
       "      <td>(7.999072, 290.870400, 288.069600)</td>\n",
       "      <td>(84.226020, 0.871332, 57.554470)</td>\n",
       "      <td>(13.677910, 298.989400, 279.991200)</td>\n",
       "      <td>(84.205380, 0.866332, 57.566930)</td>\n",
       "      <td>(13.677910, 298.989400, 279.991200)</td>\n",
       "      <td>(84.273800, 0.893557, 57.490060)</td>\n",
       "      <td>(337.646700, 267.923200, 14.017810)</td>\n",
       "    </tr>\n",
       "    <tr>\n",
       "      <th>2</th>\n",
       "      <td>635.8765</td>\n",
       "      <td>0.110718</td>\n",
       "      <td>0.019833</td>\n",
       "      <td>0.0</td>\n",
       "      <td>40766</td>\n",
       "      <td>(-24.656430, 1.723411, 11.257890)</td>\n",
       "      <td>(5.349131, 69.647720, 1.630560)</td>\n",
       "      <td>(-22.871520, 1.083476, 11.322230)</td>\n",
       "      <td>(0.000000, 38.287550, 0.000000)</td>\n",
       "      <td>(84.601360, 1.164904, 57.633650)</td>\n",
       "      <td>...</td>\n",
       "      <td>(84.282270, 0.881020, 57.522620)</td>\n",
       "      <td>(9.971492, 308.849800, 281.294600)</td>\n",
       "      <td>(84.257330, 0.875390, 57.542710)</td>\n",
       "      <td>(7.916590, 290.449000, 288.014000)</td>\n",
       "      <td>(84.225970, 0.870737, 57.554400)</td>\n",
       "      <td>(13.748380, 297.704800, 279.791600)</td>\n",
       "      <td>(84.205060, 0.865704, 57.566390)</td>\n",
       "      <td>(13.748380, 297.704800, 279.791600)</td>\n",
       "      <td>(84.273900, 0.893040, 57.490310)</td>\n",
       "      <td>(337.965300, 267.977800, 13.456380)</td>\n",
       "    </tr>\n",
       "    <tr>\n",
       "      <th>3</th>\n",
       "      <td>635.9339</td>\n",
       "      <td>0.168091</td>\n",
       "      <td>0.019455</td>\n",
       "      <td>0.0</td>\n",
       "      <td>40769</td>\n",
       "      <td>(-24.658870, 1.724024, 11.251830)</td>\n",
       "      <td>(5.153883, 72.580230, 1.312382)</td>\n",
       "      <td>(-22.871520, 1.083476, 11.322230)</td>\n",
       "      <td>(0.000000, 38.287550, 0.000000)</td>\n",
       "      <td>(84.601260, 1.164905, 57.633540)</td>\n",
       "      <td>...</td>\n",
       "      <td>(84.282380, 0.880985, 57.522820)</td>\n",
       "      <td>(9.761319, 308.913100, 281.355200)</td>\n",
       "      <td>(84.257450, 0.875473, 57.542950)</td>\n",
       "      <td>(7.818990, 290.262800, 288.082400)</td>\n",
       "      <td>(84.226040, 0.870876, 57.554540)</td>\n",
       "      <td>(13.731020, 296.998500, 279.765800)</td>\n",
       "      <td>(84.204990, 0.865850, 57.566270)</td>\n",
       "      <td>(13.731020, 296.998500, 279.765800)</td>\n",
       "      <td>(84.273870, 0.893128, 57.490590)</td>\n",
       "      <td>(338.325300, 268.210600, 13.103870)</td>\n",
       "    </tr>\n",
       "    <tr>\n",
       "      <th>4</th>\n",
       "      <td>635.9905</td>\n",
       "      <td>0.224731</td>\n",
       "      <td>0.019100</td>\n",
       "      <td>0.0</td>\n",
       "      <td>40772</td>\n",
       "      <td>(-24.661700, 1.724345, 11.245780)</td>\n",
       "      <td>(4.955453, 76.120770, 1.114381)</td>\n",
       "      <td>(-22.871520, 1.083476, 11.322230)</td>\n",
       "      <td>(0.000000, 38.287550, 0.000000)</td>\n",
       "      <td>(84.601210, 1.164720, 57.633490)</td>\n",
       "      <td>...</td>\n",
       "      <td>(84.282600, 0.880896, 57.523170)</td>\n",
       "      <td>(9.372804, 308.763200, 281.325300)</td>\n",
       "      <td>(84.257580, 0.875601, 57.543250)</td>\n",
       "      <td>(7.524162, 289.873800, 288.128800)</td>\n",
       "      <td>(84.226080, 0.871177, 57.554640)</td>\n",
       "      <td>(13.472640, 296.368000, 279.744200)</td>\n",
       "      <td>(84.204880, 0.866259, 57.566150)</td>\n",
       "      <td>(13.472640, 296.368000, 279.744200)</td>\n",
       "      <td>(84.274100, 0.893174, 57.490990)</td>\n",
       "      <td>(338.510200, 268.240200, 12.784930)</td>\n",
       "    </tr>\n",
       "  </tbody>\n",
       "</table>\n",
       "<p>5 rows × 342 columns</p>\n",
       "</div>"
      ],
      "text/plain": [
       "   GameTime  ScenarioTime  FrameRate  FrameRate-XRDevice  Frame Number  \\\n",
       "0  635.7658      0.000000   0.018137                 0.0         40761   \n",
       "1  635.8210      0.055176   0.021167                 0.0         40763   \n",
       "2  635.8765      0.110718   0.019833                 0.0         40766   \n",
       "3  635.9339      0.168091   0.019455                 0.0         40769   \n",
       "4  635.9905      0.224731   0.019100                 0.0         40772   \n",
       "\n",
       "                            B VR Pos                         B VR Rot  \\\n",
       "0  (-24.653500, 1.722083, 11.267030)  (5.940068, 63.604170, 2.144961)   \n",
       "1  (-24.654760, 1.722845, 11.262670)  (5.625865, 66.597240, 1.948765)   \n",
       "2  (-24.656430, 1.723411, 11.257890)  (5.349131, 69.647720, 1.630560)   \n",
       "3  (-24.658870, 1.724024, 11.251830)  (5.153883, 72.580230, 1.312382)   \n",
       "4  (-24.661700, 1.724345, 11.245780)  (4.955453, 76.120770, 1.114381)   \n",
       "\n",
       "                     B XR Origin Pos                 B XR Origin  Rot  \\\n",
       "0  (-22.871520, 1.083476, 11.322230)  (0.000000, 38.287550, 0.000000)   \n",
       "1  (-22.871520, 1.083476, 11.322230)  (0.000000, 38.287550, 0.000000)   \n",
       "2  (-22.871520, 1.083476, 11.322230)  (0.000000, 38.287550, 0.000000)   \n",
       "3  (-22.871520, 1.083476, 11.322230)  (0.000000, 38.287550, 0.000000)   \n",
       "4  (-22.871520, 1.083476, 11.322230)  (0.000000, 38.287550, 0.000000)   \n",
       "\n",
       "                           A VR Pos  ... A Hand Bone Pos ThumbMetacarpal Left  \\\n",
       "0  (84.601750, 1.164905, 57.634200)  ...     (84.282130, 0.883054, 57.522210)   \n",
       "1  (84.601460, 1.164904, 57.633830)  ...     (84.282200, 0.881775, 57.522450)   \n",
       "2  (84.601360, 1.164904, 57.633650)  ...     (84.282270, 0.881020, 57.522620)   \n",
       "3  (84.601260, 1.164905, 57.633540)  ...     (84.282380, 0.880985, 57.522820)   \n",
       "4  (84.601210, 1.164720, 57.633490)  ...     (84.282600, 0.880896, 57.523170)   \n",
       "\n",
       "  A Hand Bone Rot ThumbMetacarpal Left A Hand Bone Pos ThumbProximal Left  \\\n",
       "0  (10.399070, 308.988200, 281.331000)   (84.257270, 0.877186, 57.542320)   \n",
       "1  (10.169370, 308.911700, 281.339400)   (84.257290, 0.876034, 57.542550)   \n",
       "2   (9.971492, 308.849800, 281.294600)   (84.257330, 0.875390, 57.542710)   \n",
       "3   (9.761319, 308.913100, 281.355200)   (84.257450, 0.875473, 57.542950)   \n",
       "4   (9.372804, 308.763200, 281.325300)   (84.257580, 0.875601, 57.543250)   \n",
       "\n",
       "   A Hand Bone Rot ThumbProximal Left  A Hand Bone Pos ThumbDistal Left  \\\n",
       "0  (7.985543, 291.647400, 288.137600)  (84.226170, 0.872492, 57.554670)   \n",
       "1  (7.999072, 290.870400, 288.069600)  (84.226020, 0.871332, 57.554470)   \n",
       "2  (7.916590, 290.449000, 288.014000)  (84.225970, 0.870737, 57.554400)   \n",
       "3  (7.818990, 290.262800, 288.082400)  (84.226040, 0.870876, 57.554540)   \n",
       "4  (7.524162, 289.873800, 288.128800)  (84.226080, 0.871177, 57.554640)   \n",
       "\n",
       "      A Hand Bone Rot ThumbDistal Left     A Hand Bone Pos ThumbTip Left  \\\n",
       "0  (13.424510, 301.096300, 280.258200)  (84.205980, 0.867602, 57.567880)   \n",
       "1  (13.677910, 298.989400, 279.991200)  (84.205380, 0.866332, 57.566930)   \n",
       "2  (13.748380, 297.704800, 279.791600)  (84.205060, 0.865704, 57.566390)   \n",
       "3  (13.731020, 296.998500, 279.765800)  (84.204990, 0.865850, 57.566270)   \n",
       "4  (13.472640, 296.368000, 279.744200)  (84.204880, 0.866259, 57.566150)   \n",
       "\n",
       "         A Hand Bone Rot ThumbTip Left         A Hand Bone Pos Palm Left  \\\n",
       "0  (13.424510, 301.096300, 280.258200)  (84.273600, 0.894483, 57.489720)   \n",
       "1  (13.677910, 298.989400, 279.991200)  (84.273800, 0.893557, 57.490060)   \n",
       "2  (13.748380, 297.704800, 279.791600)  (84.273900, 0.893040, 57.490310)   \n",
       "3  (13.731020, 296.998500, 279.765800)  (84.273870, 0.893128, 57.490590)   \n",
       "4  (13.472640, 296.368000, 279.744200)  (84.274100, 0.893174, 57.490990)   \n",
       "\n",
       "             A Hand Bone Rot Palm Left  \n",
       "0  (337.154900, 268.026900, 14.860730)  \n",
       "1  (337.646700, 267.923200, 14.017810)  \n",
       "2  (337.965300, 267.977800, 13.456380)  \n",
       "3  (338.325300, 268.210600, 13.103870)  \n",
       "4  (338.510200, 268.240200, 12.784930)  \n",
       "\n",
       "[5 rows x 342 columns]"
      ]
     },
     "execution_count": 3,
     "metadata": {},
     "output_type": "execute_result"
    }
   ],
   "source": [
    "# Preprocess data\n",
    "import pandas as pd\n",
    "path_csv = \"CSVScenario-Ped_12_Session-_2024-01-30-13-48-49.csv\"\n",
    "with open(path_csv) as f:\n",
    "    lines = f.readlines()\n",
    "    #get header to list\n",
    "    header = [x.strip() for x in lines[0].split(';')]\n",
    "    #get max number of separator\n",
    "    max_num = max(l.count(';') for l in lines)\n",
    "    #add missing header values by range\n",
    "    if len(header) < max_num + 1:\n",
    "        header = header + list(range(max_num-len(header) + 1))\n",
    "\n",
    "df = pd.read_csv(path_csv, names=header, skiprows=1, sep=';')\n",
    "print(df.shape)\n",
    "df.head()\n"
   ]
  },
  {
   "cell_type": "markdown",
   "metadata": {},
   "source": [
    "specifically the positin and rotation vectors? Actually I am not sure what the best way is to store 3d-Vectors in a pandas dataframe\n",
    "we need to visualze the data somhow (animation or x,y,z line plot) to make sure the data recording inside of unity work well"
   ]
  },
  {
   "cell_type": "code",
   "execution_count": 4,
   "metadata": {},
   "outputs": [
    {
     "name": "stdout",
     "output_type": "stream",
     "text": [
      "['A VR Pos', 'A XR Origin Pos', 'A car Pos', 'A Root Hand Pos Right', 'A Hand Bone Pos Wrist Right', 'A Hand Bone Pos IndexMetacarpal Right', 'A Hand Bone Pos IndexProximal Right', 'A Hand Bone Pos IndexIntermediate Right', 'A Hand Bone Pos IndexDistal Right', 'A Hand Bone Pos IndexTip Right', 'A Hand Bone Pos LittleMetacarpal Right', 'A Hand Bone Pos LittleProximal Right', 'A Hand Bone Pos LittleIntermediate Right', 'A Hand Bone Pos LittleDistal Right', 'A Hand Bone Pos LittleTip Right', 'A Hand Bone Pos MiddleMetacarpal Right', 'A Hand Bone Pos MiddleProximal Right', 'A Hand Bone Pos MiddleIntermediate Right', 'A Hand Bone Pos MiddleDistal Right', 'A Hand Bone Pos MiddleTip Right', 'A Hand Bone Pos RingMetacarpal Right', 'A Hand Bone Pos RingProximal Right', 'A Hand Bone Pos RingIntermediate Right', 'A Hand Bone Pos RingDistal Right', 'A Hand Bone Pos RingTip Right', 'A Hand Bone Pos ThumbMetacarpal Right', 'A Hand Bone Pos ThumbProximal Right', 'A Hand Bone Pos ThumbDistal Right', 'A Hand Bone Pos ThumbTip Right', 'A Hand Bone Pos Palm Right', 'A Root Hand Pos Left', 'A Hand Bone Pos Wrist Left', 'A Hand Bone Pos IndexMetacarpal Left', 'A Hand Bone Pos IndexProximal Left', 'A Hand Bone Pos IndexIntermediate Left', 'A Hand Bone Pos IndexDistal Left', 'A Hand Bone Pos IndexTip Left', 'A Hand Bone Pos LittleMetacarpal Left', 'A Hand Bone Pos LittleProximal Left', 'A Hand Bone Pos LittleIntermediate Left', 'A Hand Bone Pos LittleDistal Left', 'A Hand Bone Pos LittleTip Left', 'A Hand Bone Pos MiddleMetacarpal Left', 'A Hand Bone Pos MiddleProximal Left', 'A Hand Bone Pos MiddleIntermediate Left', 'A Hand Bone Pos MiddleDistal Left', 'A Hand Bone Pos MiddleTip Left', 'A Hand Bone Pos RingMetacarpal Left', 'A Hand Bone Pos RingProximal Left', 'A Hand Bone Pos RingIntermediate Left', 'A Hand Bone Pos RingDistal Left', 'A Hand Bone Pos RingTip Left', 'A Hand Bone Pos ThumbMetacarpal Left', 'A Hand Bone Pos ThumbProximal Left', 'A Hand Bone Pos ThumbDistal Left', 'A Hand Bone Pos ThumbTip Left', 'A Hand Bone Pos Palm Left']\n",
      "['B VR Pos', 'B XR Origin Pos', 'B Avatar Pos', 'B  Bone Pos Hips', 'B  Bone Pos LeftUpperLeg', 'B  Bone Pos RightUpperLeg', 'B  Bone Pos LeftLowerLeg', 'B  Bone Pos RightLowerLeg', 'B  Bone Pos LeftFoot', 'B  Bone Pos RightFoot', 'B  Bone Pos Spine', 'B  Bone Pos Chest', 'B  Bone Pos Neck', 'B  Bone Pos Head', 'B  Bone Pos LeftShoulder', 'B  Bone Pos RightShoulder', 'B  Bone Pos LeftUpperArm', 'B  Bone Pos RightUpperArm', 'B  Bone Pos LeftLowerArm', 'B  Bone Pos RightLowerArm', 'B  Bone Pos LeftHand', 'B  Bone Pos RightHand', 'B  Bone Pos LeftToes', 'B  Bone Pos RightToes', 'B  Bone Pos LeftThumbProximal', 'B  Bone Pos LeftThumbIntermediate', 'B  Bone Pos LeftThumbDistal', 'B  Bone Pos LeftIndexProximal', 'B  Bone Pos LeftIndexIntermediate', 'B  Bone Pos LeftIndexDistal', 'B  Bone Pos LeftMiddleProximal', 'B  Bone Pos LeftMiddleIntermediate', 'B  Bone Pos LeftMiddleDistal', 'B  Bone Pos LeftRingProximal', 'B  Bone Pos LeftRingIntermediate', 'B  Bone Pos LeftRingDistal', 'B  Bone Pos LeftLittleProximal', 'B  Bone Pos LeftLittleIntermediate', 'B  Bone Pos LeftLittleDistal', 'B  Bone Pos RightThumbProximal', 'B  Bone Pos RightThumbIntermediate', 'B  Bone Pos RightThumbDistal', 'B  Bone Pos RightIndexProximal', 'B  Bone Pos RightIndexIntermediate', 'B  Bone Pos RightIndexDistal', 'B  Bone Pos RightMiddleProximal', 'B  Bone Pos RightMiddleIntermediate', 'B  Bone Pos RightMiddleDistal', 'B  Bone Pos RightRingProximal', 'B  Bone Pos RightRingIntermediate', 'B  Bone Pos RightRingDistal', 'B  Bone Pos RightLittleProximal', 'B  Bone Pos RightLittleIntermediate', 'B  Bone Pos RightLittleDistal', 'B  Bone Pos UpperChest', 'B Root Hand Pos Right', 'B Hand Bone Pos Wrist Right', 'B Hand Bone Pos IndexMetacarpal Right', 'B Hand Bone Pos IndexProximal Right', 'B Hand Bone Pos IndexIntermediate Right', 'B Hand Bone Pos IndexDistal Right', 'B Hand Bone Pos IndexTip Right', 'B Hand Bone Pos LittleMetacarpal Right', 'B Hand Bone Pos LittleProximal Right', 'B Hand Bone Pos LittleIntermediate Right', 'B Hand Bone Pos LittleDistal Right', 'B Hand Bone Pos LittleTip Right', 'B Hand Bone Pos MiddleMetacarpal Right', 'B Hand Bone Pos MiddleProximal Right', 'B Hand Bone Pos MiddleIntermediate Right', 'B Hand Bone Pos MiddleDistal Right', 'B Hand Bone Pos MiddleTip Right', 'B Hand Bone Pos RingMetacarpal Right', 'B Hand Bone Pos RingProximal Right', 'B Hand Bone Pos RingIntermediate Right', 'B Hand Bone Pos RingDistal Right', 'B Hand Bone Pos RingTip Right', 'B Hand Bone Pos ThumbMetacarpal Right', 'B Hand Bone Pos ThumbProximal Right', 'B Hand Bone Pos ThumbDistal Right', 'B Hand Bone Pos ThumbTip Right', 'B Hand Bone Pos Palm Right', 'B Root Hand Pos Left', 'B Hand Bone Pos Wrist Left', 'B Hand Bone Pos IndexMetacarpal Left', 'B Hand Bone Pos IndexProximal Left', 'B Hand Bone Pos IndexIntermediate Left', 'B Hand Bone Pos IndexDistal Left', 'B Hand Bone Pos IndexTip Left', 'B Hand Bone Pos LittleMetacarpal Left', 'B Hand Bone Pos LittleProximal Left', 'B Hand Bone Pos LittleIntermediate Left', 'B Hand Bone Pos LittleDistal Left', 'B Hand Bone Pos LittleTip Left', 'B Hand Bone Pos MiddleMetacarpal Left', 'B Hand Bone Pos MiddleProximal Left', 'B Hand Bone Pos MiddleIntermediate Left', 'B Hand Bone Pos MiddleDistal Left', 'B Hand Bone Pos MiddleTip Left', 'B Hand Bone Pos RingMetacarpal Left', 'B Hand Bone Pos RingProximal Left', 'B Hand Bone Pos RingIntermediate Left', 'B Hand Bone Pos RingDistal Left', 'B Hand Bone Pos RingTip Left', 'B Hand Bone Pos ThumbMetacarpal Left', 'B Hand Bone Pos ThumbProximal Left', 'B Hand Bone Pos ThumbDistal Left', 'B Hand Bone Pos ThumbTip Left', 'B Hand Bone Pos Palm Left']\n"
     ]
    }
   ],
   "source": [
    "columns_A = [col for col in df.columns if 'A ' in col]\n",
    "columns_B = [col for col in df.columns if 'B ' in col]\n",
    "\n",
    "columns_A_pos = [col for col in columns_A if 'Pos' in col]\n",
    "columns_B_pos = [col for col in columns_B if 'Pos' in col]\n",
    "print(columns_A_pos)\n",
    "print(columns_B_pos)"
   ]
  },
  {
   "cell_type": "code",
   "execution_count": 18,
   "metadata": {},
   "outputs": [
    {
     "name": "stderr",
     "output_type": "stream",
     "text": [
      "/Users/zhuoqi/anaconda3/lib/python3.10/site-packages/plotly/express/_core.py:2065: FutureWarning:\n",
      "\n",
      "When grouping with a length-1 list-like, you will need to pass a length-1 tuple to get_group in a future version of pandas. Pass `(name,)` instead of `name` to silence this warning.\n",
      "\n"
     ]
    },
    {
     "data": {
      "application/vnd.plotly.v1+json": {
       "config": {
        "plotlyServerURL": "https://plot.ly"
       },
       "data": [
        {
         "hovertemplate": "object=A<br>x=%{x}<br>y=%{y}<br>z=%{z}<extra></extra>",
         "legendgroup": "A",
         "marker": {
          "color": "#636efa",
          "symbol": "circle"
         },
         "mode": "markers",
         "name": "A",
         "scene": "scene",
         "showlegend": true,
         "type": "scatter3d",
         "x": [
          "84.601460",
          "85.007310",
          "84.689920",
          "84.281420",
          "84.281420",
          "84.250470",
          "84.206500",
          "84.169250",
          "84.146350",
          "84.125760",
          "84.245830",
          "84.207600",
          "84.178190",
          "84.159930",
          "84.144370",
          "84.250820",
          "84.206410",
          "84.164270",
          "84.139770",
          "84.120070",
          "84.248620",
          "84.206380",
          "84.168600",
          "84.144730",
          "84.128470",
          "84.249470",
          "84.218510",
          "84.184790",
          "84.162060",
          "84.243910",
          "84.318430",
          "84.318430",
          "84.282280",
          "84.228290",
          "84.192380",
          "84.168200",
          "84.145930",
          "84.282070",
          "84.239270",
          "84.215810",
          "84.196150",
          "84.174400",
          "84.284060",
          "84.229160",
          "84.187150",
          "84.159920",
          "84.135260",
          "84.283160",
          "84.232990",
          "84.197170",
          "84.170620",
          "84.146460",
          "84.282200",
          "84.257290",
          "84.226020",
          "84.205380",
          "84.273800"
         ],
         "y": [
          " 1.164904",
          " 0.496368",
          " -0.003922",
          " 0.861201",
          " 0.861201",
          " 0.885020",
          " 0.925062",
          " 0.931816",
          " 0.925594",
          " 0.917796",
          " 0.867222",
          " 0.887017",
          " 0.895177",
          " 0.889998",
          " 0.882476",
          " 0.878739",
          " 0.919752",
          " 0.927908",
          " 0.918008",
          " 0.905404",
          " 0.873043",
          " 0.905360",
          " 0.914853",
          " 0.907248",
          " 0.894756",
          " 0.883294",
          " 0.884043",
          " 0.884996",
          " 0.884541",
          " 0.890476",
          " 0.876317",
          " 0.876317",
          " 0.886090",
          " 0.911537",
          " 0.923600",
          " 0.923932",
          " 0.922033",
          " 0.875671",
          " 0.885805",
          " 0.898767",
          " 0.896660",
          " 0.894384",
          " 0.883303",
          " 0.910798",
          " 0.919218",
          " 0.915132",
          " 0.911113",
          " 0.880787",
          " 0.900278",
          " 0.913315",
          " 0.912577",
          " 0.909681",
          " 0.881775",
          " 0.876034",
          " 0.871332",
          " 0.866332",
          " 0.893557"
         ],
         "z": [
          " 57.633830",
          " 55.233970",
          " 58.010000",
          " 57.767320",
          " 57.767320",
          " 57.750400",
          " 57.755780",
          " 57.753490",
          " 57.748250",
          " 57.744170",
          " 57.789140",
          " 57.804300",
          " 57.807870",
          " 57.800640",
          " 57.787100",
          " 57.765610",
          " 57.777480",
          " 57.776740",
          " 57.768950",
          " 57.760140",
          " 57.783260",
          " 57.792500",
          " 57.794300",
          " 57.785450",
          " 57.772260",
          " 57.738110",
          " 57.728240",
          " 57.726160",
          " 57.716690",
          " 57.772400",
          " 57.490530",
          " 57.490530",
          " 57.510770",
          " 57.511900",
          " 57.513770",
          " 57.516230",
          " 57.517520",
          " 57.469170",
          " 57.456950",
          " 57.441940",
          " 57.437280",
          " 57.435320",
          " 57.494640",
          " 57.489590",
          " 57.487100",
          " 57.488090",
          " 57.488750",
          " 57.476150",
          " 57.472060",
          " 57.463890",
          " 57.462720",
          " 57.464110",
          " 57.522450",
          " 57.542550",
          " 57.554470",
          " 57.566930",
          " 57.490060"
         ]
        },
        {
         "hovertemplate": "object=B<br>x=%{x}<br>y=%{y}<br>z=%{z}<extra></extra>",
         "legendgroup": "B",
         "marker": {
          "color": "#EF553B",
          "symbol": "circle"
         },
         "mode": "markers",
         "name": "B",
         "scene": "scene",
         "showlegend": true,
         "type": "scatter3d",
         "x": [
          "-24.654760",
          "-22.871520",
          "-33.849860",
          "-24.759650",
          "-24.766660",
          "-24.751500",
          "-24.753190",
          "-24.791900",
          "-24.776800",
          "-24.843040",
          "-24.755470",
          "-24.763440",
          "-24.772620",
          "-24.776910",
          "-24.793470",
          "-24.751910",
          "-24.830320",
          "-24.697680",
          "-24.843810",
          "-24.704530",
          "-24.840470",
          "-24.696200",
          "-24.631810",
          "-24.706360",
          "-24.812110",
          "-24.777470",
          "-24.752370",
          "-24.806100",
          "-24.795470",
          "-24.784660",
          "-24.827650",
          "-24.820430",
          "-24.812580",
          "-24.851240",
          "-24.847250",
          "-24.841330",
          "-24.873140",
          "-24.870230",
          "-24.864460",
          "-24.698270",
          "-24.699260",
          "-24.704210",
          "-24.673790",
          "-24.685340",
          "-24.707060",
          "-24.683420",
          "-24.693820",
          "-24.712440",
          "-24.687330",
          "-24.698370",
          "-24.717470",
          "-24.694190",
          "-24.708350",
          "-24.729930",
          "-24.769520",
          "-24.607590",
          "-24.607590",
          "-24.587890",
          "-24.560200",
          "-24.559300",
          "-24.571090",
          "-24.585670",
          "-24.614050",
          "-24.606520",
          "-24.602520",
          "-24.609170",
          "-24.616190",
          "-24.597020",
          "-24.569870",
          "-24.570590",
          "-24.585270",
          "-24.601110",
          "-24.606660",
          "-24.586790",
          "-24.587260",
          "-24.598920",
          "-24.611860",
          "-24.587140",
          "-24.579980",
          "-24.571860",
          "-24.566970",
          "-24.588730",
          "-25.005640",
          "-25.005640",
          "-24.986480",
          "-24.988660",
          "-24.986230",
          "-24.982010",
          "-24.978420",
          "-25.024380",
          "-25.036460",
          "-25.042590",
          "-25.038810",
          "-25.034890",
          "-25.001560",
          "-25.010180",
          "-25.009980",
          "-25.004600",
          "-25.000230",
          "-25.018860",
          "-25.024890",
          "-25.028040",
          "-25.023770",
          "-25.018390",
          "-24.974120",
          "-24.959900",
          "-24.953980",
          "-24.947140",
          "-25.007910"
         ],
         "y": [
          " 1.722845",
          " 1.083476",
          " -0.031927",
          " 0.976616",
          " 0.915657",
          " 0.917083",
          " 0.433623",
          " 0.437465",
          " 0.038838",
          " 0.046597",
          " 1.084025",
          " 1.209174",
          " 1.513592",
          " 1.592775",
          " 1.483296",
          " 1.484439",
          " 1.456002",
          " 1.454550",
          " 1.183341",
          " 1.181522",
          " 0.907472",
          " 0.905228",
          " -0.033309",
          " -0.030524",
          " 0.868325",
          " 0.851170",
          " 0.823585",
          " 0.769154",
          " 0.745864",
          " 0.736102",
          " 0.740529",
          " 0.721011",
          " 0.712933",
          " 0.741899",
          " 0.722430",
          " 0.714390",
          " 0.773226",
          " 0.749883",
          " 0.740689",
          " 0.865126",
          " 0.846638",
          " 0.818565",
          " 0.765170",
          " 0.742209",
          " 0.732355",
          " 0.739917",
          " 0.719898",
          " 0.711401",
          " 0.743674",
          " 0.723886",
          " 0.715272",
          " 0.775892",
          " 0.751483",
          " 0.741917",
          " 1.352375",
          " 0.942444",
          " 0.942444",
          " 0.908251",
          " 0.855842",
          " 0.818013",
          " 0.798426",
          " 0.784165",
          " 0.904787",
          " 0.861869",
          " 0.831650",
          " 0.815678",
          " 0.803073",
          " 0.908826",
          " 0.855230",
          " 0.812326",
          " 0.793007",
          " 0.780116",
          " 0.906598",
          " 0.857355",
          " 0.818362",
          " 0.798717",
          " 0.787703",
          " 0.908697",
          " 0.877767",
          " 0.845204",
          " 0.821733",
          " 0.898837",
          " 1.278945",
          " 1.278945",
          " 1.243132",
          " 1.187911",
          " 1.150970",
          " 1.129693",
          " 1.111412",
          " 1.241874",
          " 1.198142",
          " 1.168424",
          " 1.151322",
          " 1.131435",
          " 1.244431",
          " 1.187965",
          " 1.145887",
          " 1.122502",
          " 1.101129",
          " 1.242956",
          " 1.191679",
          " 1.153597",
          " 1.130258",
          " 1.109046",
          " 1.243732",
          " 1.215009",
          " 1.182163",
          " 1.158643",
          " 1.233456"
         ],
         "z": [
          " 11.262670",
          " 11.322230",
          " 10.857080",
          " 11.214050",
          " 11.298080",
          " 11.129070",
          " 11.294850",
          " 11.099900",
          " 11.297360",
          " 11.067630",
          " 11.215340",
          " 11.213550",
          " 11.213730",
          " 11.212860",
          " 11.270800",
          " 11.156010",
          " 11.398590",
          " 11.035190",
          " 11.413020",
          " 11.026530",
          " 11.436310",
          " 11.039440",
          " 11.277070",
          " 11.119400",
          " 11.435860",
          " 11.437410",
          " 11.434390",
          " 11.461100",
          " 11.450220",
          " 11.429280",
          " 11.451840",
          " 11.442310",
          " 11.425090",
          " 11.445940",
          " 11.435520",
          " 11.418190",
          " 11.436110",
          " 11.423020",
          " 11.402850",
          " 11.067280",
          " 11.101720",
          " 11.125390",
          " 11.074030",
          " 11.082920",
          " 11.091950",
          " 11.047600",
          " 11.053630",
          " 11.060330",
          " 11.026520",
          " 11.029180",
          " 11.033970",
          " 11.005060",
          " 11.006360",
          " 11.010640",
          " 11.213280",
          " 10.987060",
          " 10.987060",
          " 11.003000",
          " 10.995840",
          " 10.993260",
          " 11.001500",
          " 11.010750",
          " 10.969200",
          " 10.955590",
          " 10.951770",
          " 10.962410",
          " 10.978960",
          " 10.989320",
          " 10.975710",
          " 10.976920",
          " 10.989980",
          " 11.004380",
          " 10.973480",
          " 10.963800",
          " 10.963620",
          " 10.977180",
          " 10.994670",
          " 11.015430",
          " 11.022450",
          " 11.026390",
          " 11.031990",
          " 10.981390",
          " 11.292860",
          " 11.292860",
          " 11.305580",
          " 11.328180",
          " 11.319940",
          " 11.308980",
          " 11.296560",
          " 11.285550",
          " 11.290600",
          " 11.285790",
          " 11.275510",
          " 11.267070",
          " 11.299120",
          " 11.322180",
          " 11.313690",
          " 11.300160",
          " 11.287960",
          " 11.292230",
          " 11.307970",
          " 11.300180",
          " 11.288210",
          " 11.277460",
          " 11.304180",
          " 11.309650",
          " 11.314940",
          " 11.317430",
          " 11.307520"
         ]
        }
       ],
       "layout": {
        "legend": {
         "title": {
          "text": "object"
         },
         "tracegroupgap": 0
        },
        "margin": {
         "t": 60
        },
        "scene": {
         "domain": {
          "x": [
           0,
           1
          ],
          "y": [
           0,
           1
          ]
         },
         "xaxis": {
          "title": {
           "text": "x"
          }
         },
         "yaxis": {
          "title": {
           "text": "y"
          }
         },
         "zaxis": {
          "title": {
           "text": "z"
          }
         }
        },
        "template": {
         "data": {
          "bar": [
           {
            "error_x": {
             "color": "#2a3f5f"
            },
            "error_y": {
             "color": "#2a3f5f"
            },
            "marker": {
             "line": {
              "color": "#E5ECF6",
              "width": 0.5
             },
             "pattern": {
              "fillmode": "overlay",
              "size": 10,
              "solidity": 0.2
             }
            },
            "type": "bar"
           }
          ],
          "barpolar": [
           {
            "marker": {
             "line": {
              "color": "#E5ECF6",
              "width": 0.5
             },
             "pattern": {
              "fillmode": "overlay",
              "size": 10,
              "solidity": 0.2
             }
            },
            "type": "barpolar"
           }
          ],
          "carpet": [
           {
            "aaxis": {
             "endlinecolor": "#2a3f5f",
             "gridcolor": "white",
             "linecolor": "white",
             "minorgridcolor": "white",
             "startlinecolor": "#2a3f5f"
            },
            "baxis": {
             "endlinecolor": "#2a3f5f",
             "gridcolor": "white",
             "linecolor": "white",
             "minorgridcolor": "white",
             "startlinecolor": "#2a3f5f"
            },
            "type": "carpet"
           }
          ],
          "choropleth": [
           {
            "colorbar": {
             "outlinewidth": 0,
             "ticks": ""
            },
            "type": "choropleth"
           }
          ],
          "contour": [
           {
            "colorbar": {
             "outlinewidth": 0,
             "ticks": ""
            },
            "colorscale": [
             [
              0,
              "#0d0887"
             ],
             [
              0.1111111111111111,
              "#46039f"
             ],
             [
              0.2222222222222222,
              "#7201a8"
             ],
             [
              0.3333333333333333,
              "#9c179e"
             ],
             [
              0.4444444444444444,
              "#bd3786"
             ],
             [
              0.5555555555555556,
              "#d8576b"
             ],
             [
              0.6666666666666666,
              "#ed7953"
             ],
             [
              0.7777777777777778,
              "#fb9f3a"
             ],
             [
              0.8888888888888888,
              "#fdca26"
             ],
             [
              1,
              "#f0f921"
             ]
            ],
            "type": "contour"
           }
          ],
          "contourcarpet": [
           {
            "colorbar": {
             "outlinewidth": 0,
             "ticks": ""
            },
            "type": "contourcarpet"
           }
          ],
          "heatmap": [
           {
            "colorbar": {
             "outlinewidth": 0,
             "ticks": ""
            },
            "colorscale": [
             [
              0,
              "#0d0887"
             ],
             [
              0.1111111111111111,
              "#46039f"
             ],
             [
              0.2222222222222222,
              "#7201a8"
             ],
             [
              0.3333333333333333,
              "#9c179e"
             ],
             [
              0.4444444444444444,
              "#bd3786"
             ],
             [
              0.5555555555555556,
              "#d8576b"
             ],
             [
              0.6666666666666666,
              "#ed7953"
             ],
             [
              0.7777777777777778,
              "#fb9f3a"
             ],
             [
              0.8888888888888888,
              "#fdca26"
             ],
             [
              1,
              "#f0f921"
             ]
            ],
            "type": "heatmap"
           }
          ],
          "heatmapgl": [
           {
            "colorbar": {
             "outlinewidth": 0,
             "ticks": ""
            },
            "colorscale": [
             [
              0,
              "#0d0887"
             ],
             [
              0.1111111111111111,
              "#46039f"
             ],
             [
              0.2222222222222222,
              "#7201a8"
             ],
             [
              0.3333333333333333,
              "#9c179e"
             ],
             [
              0.4444444444444444,
              "#bd3786"
             ],
             [
              0.5555555555555556,
              "#d8576b"
             ],
             [
              0.6666666666666666,
              "#ed7953"
             ],
             [
              0.7777777777777778,
              "#fb9f3a"
             ],
             [
              0.8888888888888888,
              "#fdca26"
             ],
             [
              1,
              "#f0f921"
             ]
            ],
            "type": "heatmapgl"
           }
          ],
          "histogram": [
           {
            "marker": {
             "pattern": {
              "fillmode": "overlay",
              "size": 10,
              "solidity": 0.2
             }
            },
            "type": "histogram"
           }
          ],
          "histogram2d": [
           {
            "colorbar": {
             "outlinewidth": 0,
             "ticks": ""
            },
            "colorscale": [
             [
              0,
              "#0d0887"
             ],
             [
              0.1111111111111111,
              "#46039f"
             ],
             [
              0.2222222222222222,
              "#7201a8"
             ],
             [
              0.3333333333333333,
              "#9c179e"
             ],
             [
              0.4444444444444444,
              "#bd3786"
             ],
             [
              0.5555555555555556,
              "#d8576b"
             ],
             [
              0.6666666666666666,
              "#ed7953"
             ],
             [
              0.7777777777777778,
              "#fb9f3a"
             ],
             [
              0.8888888888888888,
              "#fdca26"
             ],
             [
              1,
              "#f0f921"
             ]
            ],
            "type": "histogram2d"
           }
          ],
          "histogram2dcontour": [
           {
            "colorbar": {
             "outlinewidth": 0,
             "ticks": ""
            },
            "colorscale": [
             [
              0,
              "#0d0887"
             ],
             [
              0.1111111111111111,
              "#46039f"
             ],
             [
              0.2222222222222222,
              "#7201a8"
             ],
             [
              0.3333333333333333,
              "#9c179e"
             ],
             [
              0.4444444444444444,
              "#bd3786"
             ],
             [
              0.5555555555555556,
              "#d8576b"
             ],
             [
              0.6666666666666666,
              "#ed7953"
             ],
             [
              0.7777777777777778,
              "#fb9f3a"
             ],
             [
              0.8888888888888888,
              "#fdca26"
             ],
             [
              1,
              "#f0f921"
             ]
            ],
            "type": "histogram2dcontour"
           }
          ],
          "mesh3d": [
           {
            "colorbar": {
             "outlinewidth": 0,
             "ticks": ""
            },
            "type": "mesh3d"
           }
          ],
          "parcoords": [
           {
            "line": {
             "colorbar": {
              "outlinewidth": 0,
              "ticks": ""
             }
            },
            "type": "parcoords"
           }
          ],
          "pie": [
           {
            "automargin": true,
            "type": "pie"
           }
          ],
          "scatter": [
           {
            "fillpattern": {
             "fillmode": "overlay",
             "size": 10,
             "solidity": 0.2
            },
            "type": "scatter"
           }
          ],
          "scatter3d": [
           {
            "line": {
             "colorbar": {
              "outlinewidth": 0,
              "ticks": ""
             }
            },
            "marker": {
             "colorbar": {
              "outlinewidth": 0,
              "ticks": ""
             }
            },
            "type": "scatter3d"
           }
          ],
          "scattercarpet": [
           {
            "marker": {
             "colorbar": {
              "outlinewidth": 0,
              "ticks": ""
             }
            },
            "type": "scattercarpet"
           }
          ],
          "scattergeo": [
           {
            "marker": {
             "colorbar": {
              "outlinewidth": 0,
              "ticks": ""
             }
            },
            "type": "scattergeo"
           }
          ],
          "scattergl": [
           {
            "marker": {
             "colorbar": {
              "outlinewidth": 0,
              "ticks": ""
             }
            },
            "type": "scattergl"
           }
          ],
          "scattermapbox": [
           {
            "marker": {
             "colorbar": {
              "outlinewidth": 0,
              "ticks": ""
             }
            },
            "type": "scattermapbox"
           }
          ],
          "scatterpolar": [
           {
            "marker": {
             "colorbar": {
              "outlinewidth": 0,
              "ticks": ""
             }
            },
            "type": "scatterpolar"
           }
          ],
          "scatterpolargl": [
           {
            "marker": {
             "colorbar": {
              "outlinewidth": 0,
              "ticks": ""
             }
            },
            "type": "scatterpolargl"
           }
          ],
          "scatterternary": [
           {
            "marker": {
             "colorbar": {
              "outlinewidth": 0,
              "ticks": ""
             }
            },
            "type": "scatterternary"
           }
          ],
          "surface": [
           {
            "colorbar": {
             "outlinewidth": 0,
             "ticks": ""
            },
            "colorscale": [
             [
              0,
              "#0d0887"
             ],
             [
              0.1111111111111111,
              "#46039f"
             ],
             [
              0.2222222222222222,
              "#7201a8"
             ],
             [
              0.3333333333333333,
              "#9c179e"
             ],
             [
              0.4444444444444444,
              "#bd3786"
             ],
             [
              0.5555555555555556,
              "#d8576b"
             ],
             [
              0.6666666666666666,
              "#ed7953"
             ],
             [
              0.7777777777777778,
              "#fb9f3a"
             ],
             [
              0.8888888888888888,
              "#fdca26"
             ],
             [
              1,
              "#f0f921"
             ]
            ],
            "type": "surface"
           }
          ],
          "table": [
           {
            "cells": {
             "fill": {
              "color": "#EBF0F8"
             },
             "line": {
              "color": "white"
             }
            },
            "header": {
             "fill": {
              "color": "#C8D4E3"
             },
             "line": {
              "color": "white"
             }
            },
            "type": "table"
           }
          ]
         },
         "layout": {
          "annotationdefaults": {
           "arrowcolor": "#2a3f5f",
           "arrowhead": 0,
           "arrowwidth": 1
          },
          "autotypenumbers": "strict",
          "coloraxis": {
           "colorbar": {
            "outlinewidth": 0,
            "ticks": ""
           }
          },
          "colorscale": {
           "diverging": [
            [
             0,
             "#8e0152"
            ],
            [
             0.1,
             "#c51b7d"
            ],
            [
             0.2,
             "#de77ae"
            ],
            [
             0.3,
             "#f1b6da"
            ],
            [
             0.4,
             "#fde0ef"
            ],
            [
             0.5,
             "#f7f7f7"
            ],
            [
             0.6,
             "#e6f5d0"
            ],
            [
             0.7,
             "#b8e186"
            ],
            [
             0.8,
             "#7fbc41"
            ],
            [
             0.9,
             "#4d9221"
            ],
            [
             1,
             "#276419"
            ]
           ],
           "sequential": [
            [
             0,
             "#0d0887"
            ],
            [
             0.1111111111111111,
             "#46039f"
            ],
            [
             0.2222222222222222,
             "#7201a8"
            ],
            [
             0.3333333333333333,
             "#9c179e"
            ],
            [
             0.4444444444444444,
             "#bd3786"
            ],
            [
             0.5555555555555556,
             "#d8576b"
            ],
            [
             0.6666666666666666,
             "#ed7953"
            ],
            [
             0.7777777777777778,
             "#fb9f3a"
            ],
            [
             0.8888888888888888,
             "#fdca26"
            ],
            [
             1,
             "#f0f921"
            ]
           ],
           "sequentialminus": [
            [
             0,
             "#0d0887"
            ],
            [
             0.1111111111111111,
             "#46039f"
            ],
            [
             0.2222222222222222,
             "#7201a8"
            ],
            [
             0.3333333333333333,
             "#9c179e"
            ],
            [
             0.4444444444444444,
             "#bd3786"
            ],
            [
             0.5555555555555556,
             "#d8576b"
            ],
            [
             0.6666666666666666,
             "#ed7953"
            ],
            [
             0.7777777777777778,
             "#fb9f3a"
            ],
            [
             0.8888888888888888,
             "#fdca26"
            ],
            [
             1,
             "#f0f921"
            ]
           ]
          },
          "colorway": [
           "#636efa",
           "#EF553B",
           "#00cc96",
           "#ab63fa",
           "#FFA15A",
           "#19d3f3",
           "#FF6692",
           "#B6E880",
           "#FF97FF",
           "#FECB52"
          ],
          "font": {
           "color": "#2a3f5f"
          },
          "geo": {
           "bgcolor": "white",
           "lakecolor": "white",
           "landcolor": "#E5ECF6",
           "showlakes": true,
           "showland": true,
           "subunitcolor": "white"
          },
          "hoverlabel": {
           "align": "left"
          },
          "hovermode": "closest",
          "mapbox": {
           "style": "light"
          },
          "paper_bgcolor": "white",
          "plot_bgcolor": "#E5ECF6",
          "polar": {
           "angularaxis": {
            "gridcolor": "white",
            "linecolor": "white",
            "ticks": ""
           },
           "bgcolor": "#E5ECF6",
           "radialaxis": {
            "gridcolor": "white",
            "linecolor": "white",
            "ticks": ""
           }
          },
          "scene": {
           "xaxis": {
            "backgroundcolor": "#E5ECF6",
            "gridcolor": "white",
            "gridwidth": 2,
            "linecolor": "white",
            "showbackground": true,
            "ticks": "",
            "zerolinecolor": "white"
           },
           "yaxis": {
            "backgroundcolor": "#E5ECF6",
            "gridcolor": "white",
            "gridwidth": 2,
            "linecolor": "white",
            "showbackground": true,
            "ticks": "",
            "zerolinecolor": "white"
           },
           "zaxis": {
            "backgroundcolor": "#E5ECF6",
            "gridcolor": "white",
            "gridwidth": 2,
            "linecolor": "white",
            "showbackground": true,
            "ticks": "",
            "zerolinecolor": "white"
           }
          },
          "shapedefaults": {
           "line": {
            "color": "#2a3f5f"
           }
          },
          "ternary": {
           "aaxis": {
            "gridcolor": "white",
            "linecolor": "white",
            "ticks": ""
           },
           "baxis": {
            "gridcolor": "white",
            "linecolor": "white",
            "ticks": ""
           },
           "bgcolor": "#E5ECF6",
           "caxis": {
            "gridcolor": "white",
            "linecolor": "white",
            "ticks": ""
           }
          },
          "title": {
           "x": 0.05
          },
          "xaxis": {
           "automargin": true,
           "gridcolor": "white",
           "linecolor": "white",
           "ticks": "",
           "title": {
            "standoff": 15
           },
           "zerolinecolor": "white",
           "zerolinewidth": 2
          },
          "yaxis": {
           "automargin": true,
           "gridcolor": "white",
           "linecolor": "white",
           "ticks": "",
           "title": {
            "standoff": 15
           },
           "zerolinecolor": "white",
           "zerolinewidth": 2
          }
         }
        }
       }
      }
     },
     "metadata": {},
     "output_type": "display_data"
    }
   ],
   "source": [
    "import plotly.express as px\n",
    "import plotly.graph_objects as go\n",
    "\n",
    "# for id in range(df.shape[0]):\n",
    "id = 1\n",
    "df_B_pos = df.loc[id, columns_B_pos]\n",
    "df_B_pos = df_B_pos.str.replace(\"(\",\"\")\n",
    "df_B_pos = df_B_pos.str.replace(\")\",\"\")\n",
    "\n",
    "df_B_pos = df_B_pos.str.split(',', expand=True).rename(columns={0: \"x\", 1: \"y\", 2: \"z\"})\n",
    "df_B_pos['object'] = 'B'\n",
    "\n",
    "df_A_pos = df.loc[id, columns_A_pos]\n",
    "df_A_pos = df_A_pos.str.replace(\"(\",\"\")\n",
    "df_A_pos = df_A_pos.str.replace(\")\",\"\")\n",
    "\n",
    "df_A_pos = df_A_pos.str.split(',', expand=True).rename(columns={0: \"x\", 1: \"y\", 2: \"z\"})\n",
    "df_A_pos['object'] = 'A'\n",
    "\n",
    "df_pos = pd.concat([df_A_pos, df_B_pos])\n",
    "\n",
    "\n",
    "fig = px.scatter_3d(df_pos, x='x', y='y', z='z', color='object')\n",
    "\n",
    "# fig = go.Figure()\n",
    "\n",
    "# for obj, group in df_pos.groupby(\"object\"):\n",
    "#     fig.add_trace(go.Scatter3d(x=group['x'], y=group['y'], z=group['z'], mode='lines+markers', name=obj,\n",
    "#       line=dict(width=1),\n",
    "#       hovertemplate=\"Object=%s<br>X=%%{x}<br>Y=%%{y}<br>Z=%%{z}<extra></extra>\" % obj))\n",
    "\n",
    "# fig.update_layout(scene=dict(xaxis_title='X', yaxis_title='Y', zaxis_title='Z'),\n",
    "#                   legend_title_text=\"Object\")\n",
    "\n",
    "\n",
    "\n",
    "fig.show()"
   ]
  },
  {
   "cell_type": "code",
   "execution_count": 6,
   "metadata": {},
   "outputs": [
    {
     "name": "stdout",
     "output_type": "stream",
     "text": [
      "<bound method NDFrame.head of 0                                                    ...\n",
      "1                                                    ...\n",
      "2                                                    ...\n",
      "3                                                    ...\n",
      "4                                                    ...\n",
      "                             ...                        \n",
      "830                                                42984\n",
      "831                                                42987\n",
      "832                                                42990\n",
      "833                                                42991\n",
      "834                                                42994\n",
      "Name: Frame Number, Length: 835, dtype: object>\n"
     ]
    },
    {
     "name": "stderr",
     "output_type": "stream",
     "text": [
      "/var/folders/py/bm4kf8_j7tn54t9vvg2pyb5r0000gn/T/ipykernel_25001/809174832.py:21: SettingWithCopyWarning:\n",
      "\n",
      "\n",
      "A value is trying to be set on a copy of a slice from a DataFrame\n",
      "\n",
      "See the caveats in the documentation: https://pandas.pydata.org/pandas-docs/stable/user_guide/indexing.html#returning-a-view-versus-a-copy\n",
      "\n",
      "/var/folders/py/bm4kf8_j7tn54t9vvg2pyb5r0000gn/T/ipykernel_25001/809174832.py:21: FutureWarning:\n",
      "\n",
      "Setting an item of incompatible dtype is deprecated and will raise an error in a future version of pandas. Value '                                               x           y           z  \\\n",
      "A VR Pos                               84.601750    1.164905   57.634200   \n",
      "A XR Origin Pos                        85.007240    0.496368   55.233970   \n",
      "A car Pos                              84.689890   -0.003922   58.009990   \n",
      "A Root Hand Pos Right                  84.281500    0.862747   57.767480   \n",
      "A Hand Bone Pos Wrist Right            84.281500    0.862747   57.767480   \n",
      "...                                          ...         ...         ...   \n",
      "B Hand Bone Pos ThumbMetacarpal Left  -24.974120    1.243732   11.304180   \n",
      "B Hand Bone Pos ThumbProximal Left    -24.959900    1.215009   11.309650   \n",
      "B Hand Bone Pos ThumbDistal Left      -24.953980    1.182163   11.314940   \n",
      "B Hand Bone Pos ThumbTip Left         -24.947140    1.158643   11.317430   \n",
      "B Hand Bone Pos Palm Left             -25.007910    1.233456   11.307520   \n",
      "\n",
      "                                     object  \n",
      "A VR Pos                                  A  \n",
      "A XR Origin Pos                           A  \n",
      "A car Pos                                 A  \n",
      "A Root Hand Pos Right                     A  \n",
      "A Hand Bone Pos Wrist Right               A  \n",
      "...                                     ...  \n",
      "B Hand Bone Pos ThumbMetacarpal Left      B  \n",
      "B Hand Bone Pos ThumbProximal Left        B  \n",
      "B Hand Bone Pos ThumbDistal Left          B  \n",
      "B Hand Bone Pos ThumbTip Left             B  \n",
      "B Hand Bone Pos Palm Left                 B  \n",
      "\n",
      "[166 rows x 4 columns]' has dtype incompatible with int64, please explicitly cast to a compatible dtype first.\n",
      "\n"
     ]
    }
   ],
   "source": [
    "from plotly.subplots import make_subplots\n",
    "\n",
    "frames = df['Frame Number']\n",
    "\n",
    "for id in range(10):\n",
    "    df_B_pos = df.loc[id, columns_B_pos]\n",
    "    df_B_pos = df_B_pos.str.replace(\"(\",\"\")\n",
    "    df_B_pos = df_B_pos.str.replace(\")\",\"\")\n",
    "\n",
    "    df_B_pos = df_B_pos.str.split(',', expand=True).rename(columns={0: \"x\", 1: \"y\", 2: \"z\"})\n",
    "    df_B_pos['object'] = 'B'\n",
    "\n",
    "    df_A_pos = df.loc[id, columns_A_pos]\n",
    "    df_A_pos = df_A_pos.str.replace(\"(\",\"\")\n",
    "    df_A_pos = df_A_pos.str.replace(\")\",\"\")\n",
    "\n",
    "    df_A_pos = df_A_pos.str.split(',', expand=True).rename(columns={0: \"x\", 1: \"y\", 2: \"z\"})\n",
    "    df_A_pos['object'] = 'A'\n",
    "\n",
    "    df_pos = pd.concat([df_A_pos, df_B_pos])\n",
    "    frames[id] = df_pos\n",
    "\n",
    "print(frames.head)"
   ]
  },
  {
   "cell_type": "code",
   "execution_count": 7,
   "metadata": {},
   "outputs": [
    {
     "ename": "TypeError",
     "evalue": "'int' object is not subscriptable",
     "output_type": "error",
     "traceback": [
      "\u001b[0;31m---------------------------------------------------------------------------\u001b[0m",
      "\u001b[0;31mTypeError\u001b[0m                                 Traceback (most recent call last)",
      "Cell \u001b[0;32mIn[7], line 6\u001b[0m\n\u001b[1;32m      3\u001b[0m \u001b[38;5;66;03m# Iterate through each frame\u001b[39;00m\n\u001b[1;32m      4\u001b[0m \u001b[38;5;28;01mfor\u001b[39;00m i, frame_df \u001b[38;5;129;01min\u001b[39;00m \u001b[38;5;28menumerate\u001b[39m(frames):\n\u001b[1;32m      5\u001b[0m     frame_trace \u001b[38;5;241m=\u001b[39m go\u001b[38;5;241m.\u001b[39mScatter3d(\n\u001b[0;32m----> 6\u001b[0m         x\u001b[38;5;241m=\u001b[39m\u001b[43mframe_df\u001b[49m\u001b[43m[\u001b[49m\u001b[38;5;124;43m'\u001b[39;49m\u001b[38;5;124;43mx\u001b[39;49m\u001b[38;5;124;43m'\u001b[39;49m\u001b[43m]\u001b[49m,\n\u001b[1;32m      7\u001b[0m         y\u001b[38;5;241m=\u001b[39mframe_df[\u001b[38;5;124m'\u001b[39m\u001b[38;5;124my\u001b[39m\u001b[38;5;124m'\u001b[39m],\n\u001b[1;32m      8\u001b[0m         z\u001b[38;5;241m=\u001b[39mframe_df[\u001b[38;5;124m'\u001b[39m\u001b[38;5;124mz\u001b[39m\u001b[38;5;124m'\u001b[39m],\n\u001b[1;32m      9\u001b[0m         mode\u001b[38;5;241m=\u001b[39m\u001b[38;5;124m'\u001b[39m\u001b[38;5;124mlines\u001b[39m\u001b[38;5;124m'\u001b[39m,\n\u001b[1;32m     10\u001b[0m         name\u001b[38;5;241m=\u001b[39m\u001b[38;5;124mf\u001b[39m\u001b[38;5;124m'\u001b[39m\u001b[38;5;124mFrame \u001b[39m\u001b[38;5;132;01m{\u001b[39;00mi\u001b[38;5;250m \u001b[39m\u001b[38;5;241m+\u001b[39m\u001b[38;5;250m \u001b[39m\u001b[38;5;241m1\u001b[39m\u001b[38;5;132;01m}\u001b[39;00m\u001b[38;5;124m'\u001b[39m,\n\u001b[1;32m     11\u001b[0m         line\u001b[38;5;241m=\u001b[39m\u001b[38;5;28mdict\u001b[39m(width\u001b[38;5;241m=\u001b[39m\u001b[38;5;241m4\u001b[39m),\n\u001b[1;32m     12\u001b[0m         hovertemplate\u001b[38;5;241m=\u001b[39m\u001b[38;5;124m\"\u001b[39m\u001b[38;5;124mX=\u001b[39m\u001b[38;5;132;01m%%\u001b[39;00m\u001b[38;5;132;01m{x}\u001b[39;00m\u001b[38;5;124m<br>Y=\u001b[39m\u001b[38;5;132;01m%%\u001b[39;00m\u001b[38;5;132;01m{y}\u001b[39;00m\u001b[38;5;124m<br>Z=\u001b[39m\u001b[38;5;132;01m%%\u001b[39;00m\u001b[38;5;132;01m{z}\u001b[39;00m\u001b[38;5;124m<extra></extra>\u001b[39m\u001b[38;5;124m\"\u001b[39m\n\u001b[1;32m     13\u001b[0m     )\n\u001b[1;32m     15\u001b[0m     fig\u001b[38;5;241m.\u001b[39madd_trace(frame_trace)\n\u001b[1;32m     17\u001b[0m \u001b[38;5;66;03m# Define the animation frames\u001b[39;00m\n",
      "\u001b[0;31mTypeError\u001b[0m: 'int' object is not subscriptable"
     ]
    }
   ],
   "source": [
    "fig = make_subplots(rows=1, cols=1, specs=[[{'type': 'scatter3d'}]])\n",
    "\n",
    "# Iterate through each frame\n",
    "for i, frame_df in enumerate(frames):\n",
    "    frame_trace = go.Scatter3d(\n",
    "        x=frame_df['x'],\n",
    "        y=frame_df['y'],\n",
    "        z=frame_df['z'],\n",
    "        mode='lines',\n",
    "        name=f'Frame {i + 1}',\n",
    "        line=dict(width=4),\n",
    "        hovertemplate=\"X=%%{x}<br>Y=%%{y}<br>Z=%%{z}<extra></extra>\"\n",
    "    )\n",
    "    \n",
    "    fig.add_trace(frame_trace)\n",
    "\n",
    "# Define the animation frames\n",
    "animation_frames = [go.Frame(data=[go.Scatter3d(\n",
    "    x=frame_df['x'],\n",
    "    y=frame_df['y'],\n",
    "    z=frame_df['z'],\n",
    "    mode='lines',\n",
    "    name=f'Frame {i + 1}',\n",
    "    line=dict(width=4),\n",
    "    hovertemplate=\"X=%%{x}<br>Y=%%{y}<br>Z=%%{z}<extra></extra>\"\n",
    ")]) for i, frame_df in enumerate(frames)]\n",
    "\n",
    "# Update layout\n",
    "fig.update_layout(\n",
    "    scene=dict(xaxis_title='X', yaxis_title='Y', zaxis_title='Z'),\n",
    "    updatemenus=[dict(type='buttons', showactive=False, buttons=[dict(label='Play',\n",
    "        method='animate', args=[None, dict(frame=dict(duration=100, redraw=True), fromcurrent=True)])])])\n",
    "\n",
    "# Set animation frames\n",
    "fig.frames = animation_frames\n",
    "\n",
    "# Show the figure\n",
    "fig.show()"
   ]
  },
  {
   "cell_type": "code",
   "execution_count": null,
   "metadata": {},
   "outputs": [],
   "source": []
  }
 ],
 "metadata": {
  "kernelspec": {
   "display_name": "base",
   "language": "python",
   "name": "python3"
  },
  "language_info": {
   "codemirror_mode": {
    "name": "ipython",
    "version": 3
   },
   "file_extension": ".py",
   "mimetype": "text/x-python",
   "name": "python",
   "nbconvert_exporter": "python",
   "pygments_lexer": "ipython3",
   "version": "3.10.13"
  }
 },
 "nbformat": 4,
 "nbformat_minor": 2
}
